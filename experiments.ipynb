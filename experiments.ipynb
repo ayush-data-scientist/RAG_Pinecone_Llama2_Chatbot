{
 "cells": [
  {
   "cell_type": "code",
   "execution_count": 4,
   "id": "c5db9669",
   "metadata": {},
   "outputs": [],
   "source": [
    "#Importing Ollama: Llama2(7B) model\n",
    "from langchain_community.llms import Ollama\n",
    "\n",
    "\n",
    "#Importing Prompt Templates\n",
    "from langchain.prompts import PromptTemplate\n",
    "from langchain import PromptTemplate\n",
    "\n",
    "#Importing Vector Databases\n",
    "import pinecone\n",
    "from langchain_community.vectorstores import Pinecone\n",
    "\n",
    "#Importing Embeddings Models\n",
    "from langchain_community.embeddings import HuggingFaceEmbeddings\n",
    "\n",
    "#Import QA chain\n",
    "from langchain.chains import RetrievalQA\n",
    "\n",
    "#Import document loaders\n",
    "from langchain_community.document_loaders import PyPDFLoader, DirectoryLoader\n",
    "\n",
    "#Import recursive text splitter for chunking documents\n",
    "from langchain.text_splitter import RecursiveCharacterTextSplitter\n",
    "\n"
   ]
  },
  {
   "cell_type": "code",
   "execution_count": null,
   "id": "35b57868",
   "metadata": {},
   "outputs": [],
   "source": []
  }
 ],
 "metadata": {
  "kernelspec": {
   "display_name": "Python 3",
   "language": "python",
   "name": "python3"
  },
  "language_info": {
   "codemirror_mode": {
    "name": "ipython",
    "version": 3
   },
   "file_extension": ".py",
   "mimetype": "text/x-python",
   "name": "python",
   "nbconvert_exporter": "python",
   "pygments_lexer": "ipython3",
   "version": "3.9.23"
  }
 },
 "nbformat": 4,
 "nbformat_minor": 5
}
